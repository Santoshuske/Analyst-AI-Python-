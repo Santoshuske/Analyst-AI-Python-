{
  "nbformat": 4,
  "nbformat_minor": 0,
  "metadata": {
    "colab": {
      "provenance": [],
      "toc_visible": true,
      "authorship_tag": "ABX9TyMHnJvdRS1VMulg21OqkNwS",
      "include_colab_link": true
    },
    "kernelspec": {
      "name": "python3",
      "display_name": "Python 3"
    },
    "language_info": {
      "name": "python"
    }
  },
  "cells": [
    {
      "cell_type": "markdown",
      "metadata": {
        "id": "view-in-github",
        "colab_type": "text"
      },
      "source": [
        "<a href=\"https://colab.research.google.com/github/Santoshuske/Analyst-AI-Python-/blob/main/Analyst_AI.ipynb\" target=\"_parent\"><img src=\"https://colab.research.google.com/assets/colab-badge.svg\" alt=\"Open In Colab\"/></a>"
      ]
    },
    {
      "cell_type": "code",
      "execution_count": 1,
      "metadata": {
        "id": "U_bcUFb9QJWK"
      },
      "outputs": [],
      "source": [
        "import requests\n",
        "from bs4 import BeautifulSoup\n",
        "import pandas as pd"
      ]
    },
    {
      "cell_type": "code",
      "source": [
        "HEADERS = ({'User-Agent':'Mozilla/5.0 (Windows NT 10.0; Win64; x64) AppleWebKit/537.36 (KHTML, like Gecko) Chrome/111.0.0.0 Safari/537.36', 'Accept-Language': 'en-US, en;q=0.5'})"
      ],
      "metadata": {
        "id": "6_fXyFFNRWJ9"
      },
      "execution_count": 2,
      "outputs": []
    },
    {
      "cell_type": "code",
      "source": [
        "listt=[]\n",
        "for x in range(1,21):\n",
        "  url=\"https://www.amazon.in/s?k=bags&crid=2M096C61O4MLT&qid=1653308124&sprefix=ba%2Caps%2C283&ref=sr_pg_\"+str(x)\n",
        "  r=requests.get(url,headers=HEADERS)\n",
        "  soup=BeautifulSoup(r.content,'html.parser')\n",
        "  for i in range(0,16):\n",
        "    bags = soup.find_all('div', {'data-component-type': 's-search-result'})[i]\n",
        "    data={\n",
        "     \"Product Name\":bags.find(\"span\",{\"class\":\"a-size-medium a-color-base a-text-normal\"}).text,\n",
        "     \"Product URL\" : bags.find('a', {'class': 'a-link-normal s-no-outline'})['href'],\n",
        "     \"Product Price\":bags.find('span',{\"class\":\"a-price-whole\"}).text,\n",
        "     \"Rating\":bags.find('span',{\"class\":\"a-size-base\"}).text,\n",
        "     \"Number of reviews\":bags.find('span',{\"class\":\"a-size-base s-underline-text\"}).text}\n",
        "    listt.append(data)"
      ],
      "metadata": {
        "id": "fy0hUec0RIQt"
      },
      "execution_count": 3,
      "outputs": []
    },
    {
      "cell_type": "code",
      "source": [
        "df = pd.DataFrame(listt)"
      ],
      "metadata": {
        "id": "bVcKUZSNRsHU"
      },
      "execution_count": 4,
      "outputs": []
    },
    {
      "cell_type": "code",
      "source": [
        "df.head()"
      ],
      "metadata": {
        "colab": {
          "base_uri": "https://localhost:8080/",
          "height": 354
        },
        "id": "5OvdkzbkR5gM",
        "outputId": "abb943e4-1197-4460-d73b-fbec96745507"
      },
      "execution_count": 5,
      "outputs": [
        {
          "output_type": "execute_result",
          "data": {
            "text/plain": [
              "                                        Product Name  \\\n",
              "0  American Tourister 32 Ltrs Black Casual Backpa...   \n",
              "1  Wesley Milestone 2.0 Casual Waterproof Laptop ...   \n",
              "2  ADISA 15.6 inch Laptop Backpack Office Bag Col...   \n",
              "3          Skybags Brat Black 46 Cms Casual Backpack   \n",
              "4  Lavie Sport Lino Large Size 63 cms Wheel Duffl...   \n",
              "\n",
              "                                         Product URL Product Price Rating  \\\n",
              "0  /American-Tourister-AMT-SCH-02/dp/B07CJCGM1M/r...         1,199    4.0   \n",
              "1  /Wesley-Milestone-Waterproof-Backpack-Business...           565    4.3   \n",
              "2  /ADISA-Laptop-Backpack-Office-College/dp/B09TP...           499    3.9   \n",
              "3  /Skybags-Brat-Black-Casual-Backpack/dp/B08Z1HH...           669    4.1   \n",
              "4  /Lavie-Sport-Duffle-Luggage-Trolley/dp/B097RJ2...           949    3.9   \n",
              "\n",
              "  Number of reviews  \n",
              "0          (52,349)  \n",
              "1           (9,839)  \n",
              "2             (573)  \n",
              "3           (3,791)  \n",
              "4           (6,332)  "
            ],
            "text/html": [
              "\n",
              "  <div id=\"df-597db3ed-7ac1-4a97-8d53-f6207b7b5906\">\n",
              "    <div class=\"colab-df-container\">\n",
              "      <div>\n",
              "<style scoped>\n",
              "    .dataframe tbody tr th:only-of-type {\n",
              "        vertical-align: middle;\n",
              "    }\n",
              "\n",
              "    .dataframe tbody tr th {\n",
              "        vertical-align: top;\n",
              "    }\n",
              "\n",
              "    .dataframe thead th {\n",
              "        text-align: right;\n",
              "    }\n",
              "</style>\n",
              "<table border=\"1\" class=\"dataframe\">\n",
              "  <thead>\n",
              "    <tr style=\"text-align: right;\">\n",
              "      <th></th>\n",
              "      <th>Product Name</th>\n",
              "      <th>Product URL</th>\n",
              "      <th>Product Price</th>\n",
              "      <th>Rating</th>\n",
              "      <th>Number of reviews</th>\n",
              "    </tr>\n",
              "  </thead>\n",
              "  <tbody>\n",
              "    <tr>\n",
              "      <th>0</th>\n",
              "      <td>American Tourister 32 Ltrs Black Casual Backpa...</td>\n",
              "      <td>/American-Tourister-AMT-SCH-02/dp/B07CJCGM1M/r...</td>\n",
              "      <td>1,199</td>\n",
              "      <td>4.0</td>\n",
              "      <td>(52,349)</td>\n",
              "    </tr>\n",
              "    <tr>\n",
              "      <th>1</th>\n",
              "      <td>Wesley Milestone 2.0 Casual Waterproof Laptop ...</td>\n",
              "      <td>/Wesley-Milestone-Waterproof-Backpack-Business...</td>\n",
              "      <td>565</td>\n",
              "      <td>4.3</td>\n",
              "      <td>(9,839)</td>\n",
              "    </tr>\n",
              "    <tr>\n",
              "      <th>2</th>\n",
              "      <td>ADISA 15.6 inch Laptop Backpack Office Bag Col...</td>\n",
              "      <td>/ADISA-Laptop-Backpack-Office-College/dp/B09TP...</td>\n",
              "      <td>499</td>\n",
              "      <td>3.9</td>\n",
              "      <td>(573)</td>\n",
              "    </tr>\n",
              "    <tr>\n",
              "      <th>3</th>\n",
              "      <td>Skybags Brat Black 46 Cms Casual Backpack</td>\n",
              "      <td>/Skybags-Brat-Black-Casual-Backpack/dp/B08Z1HH...</td>\n",
              "      <td>669</td>\n",
              "      <td>4.1</td>\n",
              "      <td>(3,791)</td>\n",
              "    </tr>\n",
              "    <tr>\n",
              "      <th>4</th>\n",
              "      <td>Lavie Sport Lino Large Size 63 cms Wheel Duffl...</td>\n",
              "      <td>/Lavie-Sport-Duffle-Luggage-Trolley/dp/B097RJ2...</td>\n",
              "      <td>949</td>\n",
              "      <td>3.9</td>\n",
              "      <td>(6,332)</td>\n",
              "    </tr>\n",
              "  </tbody>\n",
              "</table>\n",
              "</div>\n",
              "      <button class=\"colab-df-convert\" onclick=\"convertToInteractive('df-597db3ed-7ac1-4a97-8d53-f6207b7b5906')\"\n",
              "              title=\"Convert this dataframe to an interactive table.\"\n",
              "              style=\"display:none;\">\n",
              "        \n",
              "  <svg xmlns=\"http://www.w3.org/2000/svg\" height=\"24px\"viewBox=\"0 0 24 24\"\n",
              "       width=\"24px\">\n",
              "    <path d=\"M0 0h24v24H0V0z\" fill=\"none\"/>\n",
              "    <path d=\"M18.56 5.44l.94 2.06.94-2.06 2.06-.94-2.06-.94-.94-2.06-.94 2.06-2.06.94zm-11 1L8.5 8.5l.94-2.06 2.06-.94-2.06-.94L8.5 2.5l-.94 2.06-2.06.94zm10 10l.94 2.06.94-2.06 2.06-.94-2.06-.94-.94-2.06-.94 2.06-2.06.94z\"/><path d=\"M17.41 7.96l-1.37-1.37c-.4-.4-.92-.59-1.43-.59-.52 0-1.04.2-1.43.59L10.3 9.45l-7.72 7.72c-.78.78-.78 2.05 0 2.83L4 21.41c.39.39.9.59 1.41.59.51 0 1.02-.2 1.41-.59l7.78-7.78 2.81-2.81c.8-.78.8-2.07 0-2.86zM5.41 20L4 18.59l7.72-7.72 1.47 1.35L5.41 20z\"/>\n",
              "  </svg>\n",
              "      </button>\n",
              "      \n",
              "  <style>\n",
              "    .colab-df-container {\n",
              "      display:flex;\n",
              "      flex-wrap:wrap;\n",
              "      gap: 12px;\n",
              "    }\n",
              "\n",
              "    .colab-df-convert {\n",
              "      background-color: #E8F0FE;\n",
              "      border: none;\n",
              "      border-radius: 50%;\n",
              "      cursor: pointer;\n",
              "      display: none;\n",
              "      fill: #1967D2;\n",
              "      height: 32px;\n",
              "      padding: 0 0 0 0;\n",
              "      width: 32px;\n",
              "    }\n",
              "\n",
              "    .colab-df-convert:hover {\n",
              "      background-color: #E2EBFA;\n",
              "      box-shadow: 0px 1px 2px rgba(60, 64, 67, 0.3), 0px 1px 3px 1px rgba(60, 64, 67, 0.15);\n",
              "      fill: #174EA6;\n",
              "    }\n",
              "\n",
              "    [theme=dark] .colab-df-convert {\n",
              "      background-color: #3B4455;\n",
              "      fill: #D2E3FC;\n",
              "    }\n",
              "\n",
              "    [theme=dark] .colab-df-convert:hover {\n",
              "      background-color: #434B5C;\n",
              "      box-shadow: 0px 1px 3px 1px rgba(0, 0, 0, 0.15);\n",
              "      filter: drop-shadow(0px 1px 2px rgba(0, 0, 0, 0.3));\n",
              "      fill: #FFFFFF;\n",
              "    }\n",
              "  </style>\n",
              "\n",
              "      <script>\n",
              "        const buttonEl =\n",
              "          document.querySelector('#df-597db3ed-7ac1-4a97-8d53-f6207b7b5906 button.colab-df-convert');\n",
              "        buttonEl.style.display =\n",
              "          google.colab.kernel.accessAllowed ? 'block' : 'none';\n",
              "\n",
              "        async function convertToInteractive(key) {\n",
              "          const element = document.querySelector('#df-597db3ed-7ac1-4a97-8d53-f6207b7b5906');\n",
              "          const dataTable =\n",
              "            await google.colab.kernel.invokeFunction('convertToInteractive',\n",
              "                                                     [key], {});\n",
              "          if (!dataTable) return;\n",
              "\n",
              "          const docLinkHtml = 'Like what you see? Visit the ' +\n",
              "            '<a target=\"_blank\" href=https://colab.research.google.com/notebooks/data_table.ipynb>data table notebook</a>'\n",
              "            + ' to learn more about interactive tables.';\n",
              "          element.innerHTML = '';\n",
              "          dataTable['output_type'] = 'display_data';\n",
              "          await google.colab.output.renderOutput(dataTable, element);\n",
              "          const docLink = document.createElement('div');\n",
              "          docLink.innerHTML = docLinkHtml;\n",
              "          element.appendChild(docLink);\n",
              "        }\n",
              "      </script>\n",
              "    </div>\n",
              "  </div>\n",
              "  "
            ]
          },
          "metadata": {},
          "execution_count": 5
        }
      ]
    },
    {
      "cell_type": "code",
      "source": [
        "df.shape"
      ],
      "metadata": {
        "colab": {
          "base_uri": "https://localhost:8080/"
        },
        "id": "aMRkkhr3R6_7",
        "outputId": "1e115f54-15c3-49f5-8570-530c17359915"
      },
      "execution_count": 6,
      "outputs": [
        {
          "output_type": "execute_result",
          "data": {
            "text/plain": [
              "(320, 5)"
            ]
          },
          "metadata": {},
          "execution_count": 6
        }
      ]
    },
    {
      "cell_type": "code",
      "source": [
        "# • Product URL\n",
        "# • Product Name\n",
        "# • Product Price\n",
        "# • Rating\n",
        "# • Number of reviews"
      ],
      "metadata": {
        "id": "oyp50vbtR-ye"
      },
      "execution_count": null,
      "outputs": []
    },
    {
      "cell_type": "code",
      "source": [
        "base_url = 'https://www.amazon.in'"
      ],
      "metadata": {
        "id": "sX-qHtG6TCUl"
      },
      "execution_count": 10,
      "outputs": []
    },
    {
      "cell_type": "code",
      "source": [
        "import re"
      ],
      "metadata": {
        "id": "mimRb1u-Tjo6"
      },
      "execution_count": 12,
      "outputs": []
    },
    {
      "cell_type": "code",
      "source": [
        "# Initialize an empty list to store the scraped data\n",
        "data = []\n",
        "\n",
        "# Loop through each product URL\n",
        "for product_url in df['Product URL']:\n",
        "    # Make a GET request to the product page URL\n",
        "    r = requests.get(base_url + product_url)\n",
        "    soup = BeautifulSoup(r.content, 'html.parser')\n",
        "    \n",
        "    # Extract the ASIN from the product page URL\n",
        "    asin = re.findall('/([A-Z0-9]{10})(?:[/?]|$)', product_url)[0]\n",
        "    \n",
        "    # Extract the product description\n",
        "    try:\n",
        "        description = soup.find('div', {'id': 'productDescription'}).text.strip()\n",
        "    except AttributeError:\n",
        "        description = ''\n",
        "    \n",
        "    # Extract the product manufacturer\n",
        "    try:\n",
        "        manufacturer = soup.find('a', {'id': 'bylineInfo'}).text.strip()\n",
        "    except AttributeError:\n",
        "        manufacturer = ''\n",
        "    \n",
        "    # Append the extracted data to the list\n",
        "    data.append({\n",
        "        'Product URL': product_url,\n",
        "        'ASIN': asin,\n",
        "        'Product Description': description,\n",
        "        'Manufacturer': manufacturer\n",
        "    })\n",
        "\n",
        "# Convert the list to a pandas dataframe\n",
        "df2= pd.DataFrame(data)"
      ],
      "metadata": {
        "colab": {
          "base_uri": "https://localhost:8080/",
          "height": 235
        },
        "id": "nP2DeIVGS1W4",
        "outputId": "2efa03b0-eec7-4cec-e905-50c7b9cc4ed7"
      },
      "execution_count": 13,
      "outputs": [
        {
          "output_type": "error",
          "ename": "IndexError",
          "evalue": "ignored",
          "traceback": [
            "\u001b[0;31m---------------------------------------------------------------------------\u001b[0m",
            "\u001b[0;31mIndexError\u001b[0m                                Traceback (most recent call last)",
            "\u001b[0;32m<ipython-input-13-867f2e853879>\u001b[0m in \u001b[0;36m<module>\u001b[0;34m\u001b[0m\n\u001b[1;32m      9\u001b[0m \u001b[0;34m\u001b[0m\u001b[0m\n\u001b[1;32m     10\u001b[0m     \u001b[0;31m# Extract the ASIN from the product page URL\u001b[0m\u001b[0;34m\u001b[0m\u001b[0;34m\u001b[0m\u001b[0m\n\u001b[0;32m---> 11\u001b[0;31m     \u001b[0masin\u001b[0m \u001b[0;34m=\u001b[0m \u001b[0mre\u001b[0m\u001b[0;34m.\u001b[0m\u001b[0mfindall\u001b[0m\u001b[0;34m(\u001b[0m\u001b[0;34m'/([A-Z0-9]{10})(?:[/?]|$)'\u001b[0m\u001b[0;34m,\u001b[0m \u001b[0mproduct_url\u001b[0m\u001b[0;34m)\u001b[0m\u001b[0;34m[\u001b[0m\u001b[0;36m0\u001b[0m\u001b[0;34m]\u001b[0m\u001b[0;34m\u001b[0m\u001b[0;34m\u001b[0m\u001b[0m\n\u001b[0m\u001b[1;32m     12\u001b[0m \u001b[0;34m\u001b[0m\u001b[0m\n\u001b[1;32m     13\u001b[0m     \u001b[0;31m# Extract the product description\u001b[0m\u001b[0;34m\u001b[0m\u001b[0;34m\u001b[0m\u001b[0m\n",
            "\u001b[0;31mIndexError\u001b[0m: list index out of range"
          ]
        }
      ]
    },
    {
      "cell_type": "code",
      "source": [
        "df2.head()"
      ],
      "metadata": {
        "colab": {
          "base_uri": "https://localhost:8080/",
          "height": 206
        },
        "id": "JRWFLUPlV8wy",
        "outputId": "91b13433-d1d8-4e95-b004-0d61c97d5093"
      },
      "execution_count": 17,
      "outputs": [
        {
          "output_type": "execute_result",
          "data": {
            "text/plain": [
              "                                         Product URL        ASIN  \\\n",
              "0  /American-Tourister-AMT-SCH-02/dp/B07CJCGM1M/r...  B07CJCGM1M   \n",
              "1  /Wesley-Milestone-Waterproof-Backpack-Business...  B084JGJ8PF   \n",
              "2  /ADISA-Laptop-Backpack-Office-College/dp/B09TP...  B09TPX22NF   \n",
              "3  /Skybags-Brat-Black-Casual-Backpack/dp/B08Z1HH...  B08Z1HHHTD   \n",
              "4  /Lavie-Sport-Duffle-Luggage-Trolley/dp/B097RJ2...  B097RJ22Q3   \n",
              "\n",
              "  Product Description Manufacturer  \n",
              "0                                   \n",
              "1                                   \n",
              "2                                   \n",
              "3                                   \n",
              "4                                   "
            ],
            "text/html": [
              "\n",
              "  <div id=\"df-bb875dbd-98a7-4c38-bdd2-79469892bb7c\">\n",
              "    <div class=\"colab-df-container\">\n",
              "      <div>\n",
              "<style scoped>\n",
              "    .dataframe tbody tr th:only-of-type {\n",
              "        vertical-align: middle;\n",
              "    }\n",
              "\n",
              "    .dataframe tbody tr th {\n",
              "        vertical-align: top;\n",
              "    }\n",
              "\n",
              "    .dataframe thead th {\n",
              "        text-align: right;\n",
              "    }\n",
              "</style>\n",
              "<table border=\"1\" class=\"dataframe\">\n",
              "  <thead>\n",
              "    <tr style=\"text-align: right;\">\n",
              "      <th></th>\n",
              "      <th>Product URL</th>\n",
              "      <th>ASIN</th>\n",
              "      <th>Product Description</th>\n",
              "      <th>Manufacturer</th>\n",
              "    </tr>\n",
              "  </thead>\n",
              "  <tbody>\n",
              "    <tr>\n",
              "      <th>0</th>\n",
              "      <td>/American-Tourister-AMT-SCH-02/dp/B07CJCGM1M/r...</td>\n",
              "      <td>B07CJCGM1M</td>\n",
              "      <td></td>\n",
              "      <td></td>\n",
              "    </tr>\n",
              "    <tr>\n",
              "      <th>1</th>\n",
              "      <td>/Wesley-Milestone-Waterproof-Backpack-Business...</td>\n",
              "      <td>B084JGJ8PF</td>\n",
              "      <td></td>\n",
              "      <td></td>\n",
              "    </tr>\n",
              "    <tr>\n",
              "      <th>2</th>\n",
              "      <td>/ADISA-Laptop-Backpack-Office-College/dp/B09TP...</td>\n",
              "      <td>B09TPX22NF</td>\n",
              "      <td></td>\n",
              "      <td></td>\n",
              "    </tr>\n",
              "    <tr>\n",
              "      <th>3</th>\n",
              "      <td>/Skybags-Brat-Black-Casual-Backpack/dp/B08Z1HH...</td>\n",
              "      <td>B08Z1HHHTD</td>\n",
              "      <td></td>\n",
              "      <td></td>\n",
              "    </tr>\n",
              "    <tr>\n",
              "      <th>4</th>\n",
              "      <td>/Lavie-Sport-Duffle-Luggage-Trolley/dp/B097RJ2...</td>\n",
              "      <td>B097RJ22Q3</td>\n",
              "      <td></td>\n",
              "      <td></td>\n",
              "    </tr>\n",
              "  </tbody>\n",
              "</table>\n",
              "</div>\n",
              "      <button class=\"colab-df-convert\" onclick=\"convertToInteractive('df-bb875dbd-98a7-4c38-bdd2-79469892bb7c')\"\n",
              "              title=\"Convert this dataframe to an interactive table.\"\n",
              "              style=\"display:none;\">\n",
              "        \n",
              "  <svg xmlns=\"http://www.w3.org/2000/svg\" height=\"24px\"viewBox=\"0 0 24 24\"\n",
              "       width=\"24px\">\n",
              "    <path d=\"M0 0h24v24H0V0z\" fill=\"none\"/>\n",
              "    <path d=\"M18.56 5.44l.94 2.06.94-2.06 2.06-.94-2.06-.94-.94-2.06-.94 2.06-2.06.94zm-11 1L8.5 8.5l.94-2.06 2.06-.94-2.06-.94L8.5 2.5l-.94 2.06-2.06.94zm10 10l.94 2.06.94-2.06 2.06-.94-2.06-.94-.94-2.06-.94 2.06-2.06.94z\"/><path d=\"M17.41 7.96l-1.37-1.37c-.4-.4-.92-.59-1.43-.59-.52 0-1.04.2-1.43.59L10.3 9.45l-7.72 7.72c-.78.78-.78 2.05 0 2.83L4 21.41c.39.39.9.59 1.41.59.51 0 1.02-.2 1.41-.59l7.78-7.78 2.81-2.81c.8-.78.8-2.07 0-2.86zM5.41 20L4 18.59l7.72-7.72 1.47 1.35L5.41 20z\"/>\n",
              "  </svg>\n",
              "      </button>\n",
              "      \n",
              "  <style>\n",
              "    .colab-df-container {\n",
              "      display:flex;\n",
              "      flex-wrap:wrap;\n",
              "      gap: 12px;\n",
              "    }\n",
              "\n",
              "    .colab-df-convert {\n",
              "      background-color: #E8F0FE;\n",
              "      border: none;\n",
              "      border-radius: 50%;\n",
              "      cursor: pointer;\n",
              "      display: none;\n",
              "      fill: #1967D2;\n",
              "      height: 32px;\n",
              "      padding: 0 0 0 0;\n",
              "      width: 32px;\n",
              "    }\n",
              "\n",
              "    .colab-df-convert:hover {\n",
              "      background-color: #E2EBFA;\n",
              "      box-shadow: 0px 1px 2px rgba(60, 64, 67, 0.3), 0px 1px 3px 1px rgba(60, 64, 67, 0.15);\n",
              "      fill: #174EA6;\n",
              "    }\n",
              "\n",
              "    [theme=dark] .colab-df-convert {\n",
              "      background-color: #3B4455;\n",
              "      fill: #D2E3FC;\n",
              "    }\n",
              "\n",
              "    [theme=dark] .colab-df-convert:hover {\n",
              "      background-color: #434B5C;\n",
              "      box-shadow: 0px 1px 3px 1px rgba(0, 0, 0, 0.15);\n",
              "      filter: drop-shadow(0px 1px 2px rgba(0, 0, 0, 0.3));\n",
              "      fill: #FFFFFF;\n",
              "    }\n",
              "  </style>\n",
              "\n",
              "      <script>\n",
              "        const buttonEl =\n",
              "          document.querySelector('#df-bb875dbd-98a7-4c38-bdd2-79469892bb7c button.colab-df-convert');\n",
              "        buttonEl.style.display =\n",
              "          google.colab.kernel.accessAllowed ? 'block' : 'none';\n",
              "\n",
              "        async function convertToInteractive(key) {\n",
              "          const element = document.querySelector('#df-bb875dbd-98a7-4c38-bdd2-79469892bb7c');\n",
              "          const dataTable =\n",
              "            await google.colab.kernel.invokeFunction('convertToInteractive',\n",
              "                                                     [key], {});\n",
              "          if (!dataTable) return;\n",
              "\n",
              "          const docLinkHtml = 'Like what you see? Visit the ' +\n",
              "            '<a target=\"_blank\" href=https://colab.research.google.com/notebooks/data_table.ipynb>data table notebook</a>'\n",
              "            + ' to learn more about interactive tables.';\n",
              "          element.innerHTML = '';\n",
              "          dataTable['output_type'] = 'display_data';\n",
              "          await google.colab.output.renderOutput(dataTable, element);\n",
              "          const docLink = document.createElement('div');\n",
              "          docLink.innerHTML = docLinkHtml;\n",
              "          element.appendChild(docLink);\n",
              "        }\n",
              "      </script>\n",
              "    </div>\n",
              "  </div>\n",
              "  "
            ]
          },
          "metadata": {},
          "execution_count": 17
        }
      ]
    },
    {
      "cell_type": "code",
      "source": [
        "df2.shape"
      ],
      "metadata": {
        "colab": {
          "base_uri": "https://localhost:8080/"
        },
        "id": "EtkYpHiNV-km",
        "outputId": "ec07bcec-3f06-40f7-cfce-3a383151bd45"
      },
      "execution_count": 18,
      "outputs": [
        {
          "output_type": "execute_result",
          "data": {
            "text/plain": [
              "(320, 4)"
            ]
          },
          "metadata": {},
          "execution_count": 18
        }
      ]
    },
    {
      "cell_type": "code",
      "source": [
        "len(df2['ASIN'].unique())"
      ],
      "metadata": {
        "colab": {
          "base_uri": "https://localhost:8080/"
        },
        "id": "iMjsbHIfWBoT",
        "outputId": "c30b3fd8-47b5-4a87-ea26-d2fbef29fef3"
      },
      "execution_count": 20,
      "outputs": [
        {
          "output_type": "execute_result",
          "data": {
            "text/plain": [
              "18"
            ]
          },
          "metadata": {},
          "execution_count": 20
        }
      ]
    },
    {
      "cell_type": "code",
      "source": [],
      "metadata": {
        "id": "yZ7M98LBWH2B"
      },
      "execution_count": null,
      "outputs": []
    }
  ]
}